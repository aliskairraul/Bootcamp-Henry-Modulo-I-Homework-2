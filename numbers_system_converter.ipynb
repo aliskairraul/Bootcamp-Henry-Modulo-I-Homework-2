{
 "cells": [
  {
   "cell_type": "markdown",
   "metadata": {},
   "source": [
    "#### Funcion que recibe un número entero y lo convierte a distintos sistemas de numeración\n",
    "+ Nombre de la función --> decimal_to_diverse_systems\n",
    "+ Condiciones a Tomar en Cuenta:\n",
    "    + La Función recibe como primer parámetro un número en Sistema Decimal (base 10)\n",
    "    + El numero que recibe de primer parámetro debe ser un Entero Positivo\n",
    "    + La Función recibe como segundo parámetro la base del sistema, a la cual se hará la conversión\n",
    "    + EL segundo parámetro debe estar en el rango de 2 y 16 (siendo un numero entero el que se introduzca)\n",
    "    + De no cumplirse las 4 primeras condiciones de este enunciado la función retornará None\n",
    "    + De cumplirse las 4 primeras condiciones de este enunciado, retornará un String con la representación del número en el sistema escogido"
   ]
  },
  {
   "cell_type": "code",
   "execution_count": 2,
   "metadata": {},
   "outputs": [],
   "source": [
    "def number_system_converter(number:int, sistema:int) -> str:\n",
    "    '''\n",
    "    Recibe un numero decimal y devuelve un String con la representación en el sistema numérico escogido\n",
    "    Parametros/Input: \n",
    "        number: Número del cual se desea obtener su representación en otro sistema de numeración distinto al decimal.\n",
    "                Condición: Entero Positivo\n",
    "        sistema: Base del sistema numérico a la cual se buscará la representación equivalente al parámetro \"number\"\n",
    "                Condición: Entero con Rango [2-16]\n",
    "    Salida/Output: Stirng con la representación equivalente al numero en sistema decimal \"number\",\n",
    "                   o None sí no cumple las condiciones en los parámetros de entrada\n",
    "\n",
    "    Validaciones:\n",
    "    .- Si el numero no es de tipo Entero Devuelve None\n",
    "    .- Sí el sistema al que deseo convertir no  está en el rango entre 2 y 16 Devuelve None\n",
    "    ._ Si el sistema escogido es el 10 no tiene sentido hacer ningun calculo (retorno el mismo Numero)\n",
    "    .- Si el Numero Introducido es MENOR que el sistema al que se desea Convertir, No tiene sentido realizar calculos\n",
    "\n",
    "        Nota: La lógica de este algoritmo la enfoqué en busca eso que llamé exponente máximo. Abajo detallo a que\n",
    "              me refiero    \n",
    "            Ejemplo de busqueda de exp_max en Sistema binario\n",
    "            Las valores, equivalentes en el sistema decimal, de cada posicion valen (sistema)^n  donde n comienza \n",
    "            en 0 en la posicion mas a la derecha y aumenta de 1 en 1\n",
    "            Ejemplo  2^3 + 2^2 + 2^1 + 2^0\n",
    "                    1     1     1     1   =  15 en decimal (8+4+2+1) --> El exponente maximo es 3\n",
    "            Ejemplo de sistema base 4\n",
    "                   4^2 + 4^1 + 4^0\n",
    "                    1     1     0)  ====> 20 en decimal (16+4+0) --> El exponente maximo es 2 \n",
    "                    16    4     1\n",
    "\n",
    "            Como lo Obtengo:\n",
    "            Ejemplo en Binario\n",
    "            Inicializo exp_max en 1, Ya que si el numero introducido es menor a la base ya el algoritmo retorno \n",
    "                       en una Validacion anterior\n",
    "            numero 84. Dividir entre la base del sistema (en este caso 2) y recoger el entero hasta que sea <= 2\n",
    "            (84 a Binario) 84/2->(2)   42/2->(3)  21/2->(4)  10/2->(5)  5/2->(6)  \"84 es 1010100\"\n",
    "                          exp_max ┘   exp_max ┘  exp_max ┘  exp_max ┘ exp_max ┘\n",
    "    '''\n",
    "    numbers_10_to_15 = {\n",
    "        10: 'A',\n",
    "        11: 'B',\n",
    "        12: 'C',\n",
    "        13: 'D',\n",
    "        14: 'E',\n",
    "        15: 'F'\n",
    "    }\n",
    "    \n",
    "    if type(number) != int or number < 0: return None \n",
    "    \n",
    "    if type(sistema) != int or not sistema in [2,3,4,5,6,7,8,9,10,11,12,13,14,15,16]: return None \n",
    "    \n",
    "    if sistema == 10: return str(number) \n",
    "    \n",
    "    if number < sistema: \n",
    "        if sistema < 10: \n",
    "            return str(number)\n",
    "        return numbers_10_to_15[number]\n",
    "    \n",
    "    # Inicializo Variables\n",
    "    exp_max:int = 1\n",
    "    #Creo una copia del numero para poder ir modificando en iteraciones sin alterar el original\n",
    "    number_copy:int = number \n",
    "    \n",
    "    # Ciclo para obtener Exp Maximo\n",
    "    while True:                                                \n",
    "        number_copy = number_copy // sistema \n",
    "        if number_copy >= sistema:                                 \n",
    "            exp_max += 1\n",
    "        else:\n",
    "            break\n",
    "    equivalent = ''\n",
    "    acum = 0\n",
    "    for i in range(exp_max, -1, -1): \n",
    "        # Cada posición puede ser \"(sistema-1),(sistema-2).....0\n",
    "        for j in range((sistema-1), -1, -1):\n",
    "            if (acum + (sistema**i)*j) <= number:\n",
    "                 # En caso de que j sea menor a 10 la representacion de esa posicion es J\n",
    "                if j < 10:\n",
    "                    equivalent += str(j)\n",
    "                else:\n",
    "                    equivalent += numbers_10_to_15[j]\n",
    "                acum += (sistema**i)*j\n",
    "                break\n",
    "\n",
    "    return equivalent"
   ]
  },
  {
   "cell_type": "markdown",
   "metadata": {},
   "source": [
    "Haciendo una prueba inicial"
   ]
  },
  {
   "cell_type": "code",
   "execution_count": 3,
   "metadata": {},
   "outputs": [
    {
     "data": {
      "text/plain": [
       "'FA'"
      ]
     },
     "execution_count": 3,
     "metadata": {},
     "output_type": "execute_result"
    }
   ],
   "source": [
    "prueba = number_system_converter(number=250, sistema=16)\n",
    "prueba"
   ]
  },
  {
   "cell_type": "markdown",
   "metadata": {},
   "source": [
    "Probando con varias tuplas de pruba<br>\n",
    "- tupla[0] -> Valor en sistema decimal a convertir\n",
    "- tupla[1] -> Sistema al que hay que convertir el valor"
   ]
  },
  {
   "cell_type": "code",
   "execution_count": 6,
   "metadata": {},
   "outputs": [
    {
     "name": "stdout",
     "output_type": "stream",
     "text": [
      "El numero 8 convertido a sistema Base 2 se representa ===> 1000\n",
      "El numero 255 convertido a sistema Base 16 se representa ===> FF\n",
      "El numero 15 convertido a sistema Base 2 se representa ===> 1111\n",
      "El numero 67 convertido a sistema Base 2 se representa ===> 1000011\n",
      "El numero 384 convertido a sistema Base 9 se representa ===> 466\n",
      "El numero 845 convertido a sistema Base 16 se representa ===> 34D\n",
      "El numero 32 convertido a sistema Base 16 se representa ===> 20\n",
      "El numero 55 convertido a sistema Base 8 se representa ===> 67\n"
     ]
    }
   ],
   "source": [
    "# Valores de Prueba\n",
    "test_values = [(8,2), (255,16),(15,2), (67,2), (384,9), (845,16), (32,16), (55,8)]\n",
    "for test in test_values:\n",
    "    response = number_system_converter(number=test[0], sistema=test[1])\n",
    "    print(f'El numero {test[0]} convertido a sistema Base {test[1]} se representa ===> {response}')"
   ]
  }
 ],
 "metadata": {
  "kernelspec": {
   "display_name": "modulo_1_venv",
   "language": "python",
   "name": "python3"
  },
  "language_info": {
   "codemirror_mode": {
    "name": "ipython",
    "version": 3
   },
   "file_extension": ".py",
   "mimetype": "text/x-python",
   "name": "python",
   "nbconvert_exporter": "python",
   "pygments_lexer": "ipython3",
   "version": "3.10.11"
  }
 },
 "nbformat": 4,
 "nbformat_minor": 2
}
